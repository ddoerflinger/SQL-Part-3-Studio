{
    "metadata": {
        "kernelspec": {
            "name": "SQL",
            "display_name": "SQL",
            "language": "sql"
        },
        "language_info": {
            "name": "sql",
            "version": ""
        },
        "extensions": {
            "azuredatastudio": {
                "version": 1,
                "views": []
            }
        }
    },
    "nbformat_minor": 2,
    "nbformat": 4,
    "cells": [
        {
            "cell_type": "markdown",
            "source": [
                "# SQL Part 3 Studio\n",
                "\n",
                "### Let's practice your SQL quering skills!  For each question, work along in the notebook adding your query and answering the questions. \n",
                "\n",
                "### **DataSet**\n",
                "\n",
                "### <span style=\"font-size: 14px; font-family: -apple-system, BlinkMacSystemFont, sans-serif;\">We will be using the Goodbooks-10k dataset from the exercises in the prep work.&nbsp; Feel free reference your previous notebooks.</span>\n",
                "\n",
                "- The dataset can be found here: [goodbooks-10k](https://www.kaggle.com/zygmunt/goodbooks-10k)\n",
                "- You can access the **BooksDB** in the Launchcode server.\n",
                "\n",
                "### **Business Issue**\n",
                "\n",
                "You are an employee at a small independet bookstore and you have been tasked to increase sales.  You decide to use the BooksDB to find books and themes to highlight in fun promotions throughout each month / season.  We will be starting with March and then you will have a chance to explore another month of your choosing.  We want to come up with a list of events/ promotions to run each month.  If you are looking for ideas to include in your promotions:\n",
                "\n",
                "- [https://www.calendarr.com/united-states/calendar-2022/](https://www.calendarr.com/united-states/calendar-2022/)\n",
                "- [https://www.holidayinsights.com/moreholidays/](https://www.holidayinsights.com/moreholidays/)\n",
                "    - Click on a month and it will take you to a more detailed page"
            ],
            "metadata": {
                "azdata_cell_guid": "b9034d8a-b631-48bf-a895-1012a6ffa784"
            },
            "attachments": {}
        },
        {
            "cell_type": "markdown",
            "source": [
                "## Part 1:  March - Women's History Month, Dr Seuss Day(3/2), National Pie Day3/14, St Patrick's Day (3/17), Season - Spring"
            ],
            "metadata": {
                "azdata_cell_guid": "6e55eb1c-4a14-4076-90d2-95ed17a6309f"
            },
            "attachments": {}
        },
        {
            "cell_type": "markdown",
            "source": [
                "### **Event 1:** Women's History Month\n",
                "\n",
                "Goal: Highlight Popular Womans Authors based on ratings from the Good Reads DB.\n",
                "\n",
                "### **Write a query that returns tag\\_id, the number of times each tag\\_id is used and the tag\\_name.**  \n",
                "\n",
                "### Use the GROUP BY and HAVING clause to narrow your focus.\n",
                "\n",
                "Try multiple keywords, ie woman vs female (female ended up giving better results)"
            ],
            "metadata": {
                "azdata_cell_guid": "d220c097-e9cf-4edd-9abe-312d071217b7"
            },
            "attachments": {}
        },
        {
            "cell_type": "code",
            "source": [
                "-- Solution\r\n",
                "SELECT TOP 10 bt.tag_id, COUNT(bt.tag_id) AS 'Number of tag_ids', t.tag_name\r\n",
                "FROM BooksDB.dbo.book_tags AS bt\r\n",
                "JOIN BooksDB.dbo.tags AS t\r\n",
                "ON bt.tag_id = t.tag_id\r\n",
                "GROUP BY t.tag_name, bt.tag_id\r\n",
                "HAVING t.tag_name LIKE '%woman%' OR t.tag_name LIKE '%female%' OR t.tag_name LIKE '%women%'\r\n",
                "ORDER BY [Number of tag_ids] DESC;"
            ],
            "metadata": {
                "azdata_cell_guid": "e31b9d26-0386-44c7-828e-85f4f06f3ee6",
                "language": "sql"
            },
            "outputs": [
                {
                    "output_type": "display_data",
                    "data": {
                        "text/html": "(10 rows affected)"
                    },
                    "metadata": {}
                },
                {
                    "output_type": "display_data",
                    "data": {
                        "text/html": "Total execution time: 00:00:00.346"
                    },
                    "metadata": {}
                },
                {
                    "output_type": "execute_result",
                    "metadata": {},
                    "execution_count": 10,
                    "data": {
                        "application/vnd.dataresource+json": {
                            "schema": {
                                "fields": [
                                    {
                                        "name": "tag_id"
                                    },
                                    {
                                        "name": "tag_id"
                                    },
                                    {
                                        "name": "Number of tag_ids"
                                    },
                                    {
                                        "name": "tag_name"
                                    }
                                ]
                            },
                            "data": [
                                {
                                    "0": "32686",
                                    "1": "32686",
                                    "2": "1062",
                                    "3": "women"
                                },
                                {
                                    "0": "11643",
                                    "1": "11643",
                                    "2": "997",
                                    "3": "female-author"
                                },
                                {
                                    "0": "11644",
                                    "1": "11644",
                                    "2": "721",
                                    "3": "female-authors"
                                },
                                {
                                    "0": "32708",
                                    "1": "32708",
                                    "2": "438",
                                    "3": "women-s-fiction"
                                },
                                {
                                    "0": "32724",
                                    "1": "32724",
                                    "2": "373",
                                    "3": "women-writers"
                                },
                                {
                                    "0": "32726",
                                    "1": "32726",
                                    "2": "368",
                                    "3": "womens-fiction"
                                },
                                {
                                    "0": "32688",
                                    "1": "32688",
                                    "2": "324",
                                    "3": "women-authors"
                                },
                                {
                                    "0": "11658",
                                    "1": "11658",
                                    "2": "171",
                                    "3": "female-protagonist"
                                },
                                {
                                    "0": "28839",
                                    "1": "28839",
                                    "2": "71",
                                    "3": "strong-women"
                                },
                                {
                                    "0": "11646",
                                    "1": "11646",
                                    "2": "32",
                                    "3": "female-detective"
                                }
                            ]
                        },
                        "text/html": [
                            "<table>",
                            "<tr><th>tag_id</th><th>tag_id</th><th>Number of tag_ids</th><th>tag_name</th></tr>",
                            "<tr><td>32686</td><td>32686</td><td>1062</td><td>women</td></tr>",
                            "<tr><td>11643</td><td>11643</td><td>997</td><td>female-author</td></tr>",
                            "<tr><td>11644</td><td>11644</td><td>721</td><td>female-authors</td></tr>",
                            "<tr><td>32708</td><td>32708</td><td>438</td><td>women-s-fiction</td></tr>",
                            "<tr><td>32724</td><td>32724</td><td>373</td><td>women-writers</td></tr>",
                            "<tr><td>32726</td><td>32726</td><td>368</td><td>womens-fiction</td></tr>",
                            "<tr><td>32688</td><td>32688</td><td>324</td><td>women-authors</td></tr>",
                            "<tr><td>11658</td><td>11658</td><td>171</td><td>female-protagonist</td></tr>",
                            "<tr><td>28839</td><td>28839</td><td>71</td><td>strong-women</td></tr>",
                            "<tr><td>11646</td><td>11646</td><td>32</td><td>female-detective</td></tr>",
                            "</table>"
                        ]
                    }
                }
            ],
            "execution_count": 10
        },
        {
            "cell_type": "markdown",
            "source": [
                "### **Which keyword(s) and tag(s) would you like to explore more?**\n",
                "\n",
                "I would explore either Pie Day or Spring more."
            ],
            "metadata": {
                "azdata_cell_guid": "e9acd8b5-a62b-4ac0-bd07-19915b379ba6"
            },
            "attachments": {}
        },
        {
            "cell_type": "markdown",
            "source": [
                "### **Write a query to return authors, titles, ratings and** **selected tag(s)\\_id.**"
            ],
            "metadata": {
                "azdata_cell_guid": "59b84464-c0bc-4dac-9e02-0c803765b063"
            },
            "attachments": {}
        },
        {
            "cell_type": "code",
            "source": [
                "-- Solution\r\n",
                "SELECT TOP 10 b.authors, b.title, b.average_rating, bt.tag_id\r\n",
                "FROM BooksDB.dbo.books AS b \r\n",
                "JOIN BooksDB.dbo.book_tags as bt \r\n",
                "ON b.best_book_id = goodreads_book_id\r\n",
                "WHERE tag_id = 11643\r\n",
                "ORDER BY average_rating DESC;"
            ],
            "metadata": {
                "azdata_cell_guid": "51ffeaaf-6dde-4906-95f3-eb8757babf27",
                "tags": [],
                "language": "sql"
            },
            "outputs": [
                {
                    "output_type": "display_data",
                    "data": {
                        "text/html": "(10 rows affected)"
                    },
                    "metadata": {}
                },
                {
                    "output_type": "display_data",
                    "data": {
                        "text/html": "Total execution time: 00:00:00.163"
                    },
                    "metadata": {}
                },
                {
                    "output_type": "execute_result",
                    "metadata": {},
                    "execution_count": 12,
                    "data": {
                        "application/vnd.dataresource+json": {
                            "schema": {
                                "fields": [
                                    {
                                        "name": "authors"
                                    },
                                    {
                                        "name": "title"
                                    },
                                    {
                                        "name": "average_rating"
                                    },
                                    {
                                        "name": "tag_id"
                                    }
                                ]
                            },
                            "data": [
                                {
                                    "0": "J.K. Rowling, Mary GrandPré",
                                    "1": "The Harry Potter Collection 1-4 (Harry Potter, #1-4)",
                                    "2": "4.66",
                                    "3": "11643"
                                },
                                {
                                    "0": "Bisco Hatori",
                                    "1": "Ouran High School Host Club, Vol. 15 (Ouran High School Host Club, #15)",
                                    "2": "4.54",
                                    "3": "11643"
                                },
                                {
                                    "0": "Robin Hobb",
                                    "1": "Fool's Quest  (The Fitz and The Fool, #2)",
                                    "2": "4.53",
                                    "3": "11643"
                                },
                                {
                                    "0": "Michelle Alexander",
                                    "1": "The New Jim Crow: Mass Incarceration in the Age of Colorblindness",
                                    "2": "4.49",
                                    "3": "11643"
                                },
                                {
                                    "0": "Chimamanda Ngozi Adichie",
                                    "1": "We Should All Be Feminists",
                                    "2": "4.47",
                                    "3": "11643"
                                },
                                {
                                    "0": "Julia Donaldson, Axel Scheffler",
                                    "1": "The Gruffalo",
                                    "2": "4.47",
                                    "3": "11643"
                                },
                                {
                                    "0": "J.K. Rowling, Mary GrandPré",
                                    "1": "Harry Potter and the Order of the Phoenix (Harry Potter, #5)",
                                    "2": "4.46",
                                    "3": "11643"
                                },
                                {
                                    "0": "Flannery O'Connor",
                                    "1": "The Complete Stories",
                                    "2": "4.44",
                                    "3": "11643"
                                },
                                {
                                    "0": "Lois McMaster Bujold",
                                    "1": "A Civil Campaign (Vorkosigan Saga, #12)",
                                    "2": "4.43",
                                    "3": "11643"
                                },
                                {
                                    "0": "Yaa Gyasi",
                                    "1": "Homegoing",
                                    "2": "4.41",
                                    "3": "11643"
                                }
                            ]
                        },
                        "text/html": [
                            "<table>",
                            "<tr><th>authors</th><th>title</th><th>average_rating</th><th>tag_id</th></tr>",
                            "<tr><td>J.K. Rowling, Mary GrandPré</td><td>The Harry Potter Collection 1-4 (Harry Potter, #1-4)</td><td>4.66</td><td>11643</td></tr>",
                            "<tr><td>Bisco Hatori</td><td>Ouran High School Host Club, Vol. 15 (Ouran High School Host Club, #15)</td><td>4.54</td><td>11643</td></tr>",
                            "<tr><td>Robin Hobb</td><td>Fool's Quest  (The Fitz and The Fool, #2)</td><td>4.53</td><td>11643</td></tr>",
                            "<tr><td>Michelle Alexander</td><td>The New Jim Crow: Mass Incarceration in the Age of Colorblindness</td><td>4.49</td><td>11643</td></tr>",
                            "<tr><td>Chimamanda Ngozi Adichie</td><td>We Should All Be Feminists</td><td>4.47</td><td>11643</td></tr>",
                            "<tr><td>Julia Donaldson, Axel Scheffler</td><td>The Gruffalo</td><td>4.47</td><td>11643</td></tr>",
                            "<tr><td>J.K. Rowling, Mary GrandPré</td><td>Harry Potter and the Order of the Phoenix (Harry Potter, #5)</td><td>4.46</td><td>11643</td></tr>",
                            "<tr><td>Flannery O'Connor</td><td>The Complete Stories</td><td>4.44</td><td>11643</td></tr>",
                            "<tr><td>Lois McMaster Bujold</td><td>A Civil Campaign (Vorkosigan Saga, #12)</td><td>4.43</td><td>11643</td></tr>",
                            "<tr><td>Yaa Gyasi</td><td>Homegoing</td><td>4.41</td><td>11643</td></tr>",
                            "</table>"
                        ]
                    }
                }
            ],
            "execution_count": 12
        },
        {
            "cell_type": "markdown",
            "source": [
                "### **Record your thoughts about why you wrote the query the way you did.** \n",
                "\n",
                "I chose tag\\_id 11643 because it was designated female\\_author, which fits the Women's History Month Theme. I then looked at the top 10 rated books that were written by a female author."
            ],
            "metadata": {
                "azdata_cell_guid": "1e19a72c-1bca-446b-a0c7-a8efbc35dcf1"
            },
            "attachments": {}
        },
        {
            "cell_type": "markdown",
            "source": [
                "# Part 2: Choose Another Month\n",
                "\n",
                "Choose another month and plan at least 2 events / promotions and answer the following questions.\n",
                "\n",
                "Which month did you choose?  February\n",
                "\n",
                "What 2 events / promotions are you highlighting?\n",
                "\n",
                "> 1.  Martin Luther King Jr. Day\n",
                "\n",
                "> 2.  Valentine's Day"
            ],
            "metadata": {
                "azdata_cell_guid": "3eaf376d-9de3-4553-a9d0-9caf74ee3d6a"
            },
            "attachments": {}
        },
        {
            "cell_type": "markdown",
            "source": [
                "# Part 3: Summarize your Work\n",
                "\n",
                "For each event write at least one query that joins any two tables in the BooksDB to support your choice and record you thoughts as to why you used the paticlular query. At least one of your queries needs to include a HAVING clause."
            ],
            "metadata": {
                "azdata_cell_guid": "1ba1363a-4f02-4962-a95a-93b80c5926b1"
            },
            "attachments": {}
        },
        {
            "cell_type": "code",
            "source": [
                "-- Event 1 Query\r\n",
                "-- President's Day\r\n",
                "SELECT TOP 10 bt.tag_id, COUNT(bt.tag_id) AS 'Number of tag_ids', t.tag_name\r\n",
                "FROM BooksDB.dbo.book_tags AS bt\r\n",
                "JOIN BooksDB.dbo.tags AS t\r\n",
                "ON bt.tag_id = t.tag_id\r\n",
                "GROUP BY t.tag_name, bt.tag_id\r\n",
                "HAVING t.tag_name LIKE '%President%'\r\n",
                "ORDER BY bt.tag_id DESC;"
            ],
            "metadata": {
                "azdata_cell_guid": "f50d32ce-4cb2-4af2-acb1-607777a76cf8",
                "language": "sql"
            },
            "outputs": [
                {
                    "output_type": "display_data",
                    "data": {
                        "text/html": "(10 rows affected)"
                    },
                    "metadata": {}
                },
                {
                    "output_type": "display_data",
                    "data": {
                        "text/html": "Total execution time: 00:00:00.234"
                    },
                    "metadata": {}
                },
                {
                    "output_type": "execute_result",
                    "metadata": {},
                    "execution_count": 34,
                    "data": {
                        "application/vnd.dataresource+json": {
                            "schema": {
                                "fields": [
                                    {
                                        "name": "tag_id"
                                    },
                                    {
                                        "name": "Number of tag_ids"
                                    },
                                    {
                                        "name": "tag_name"
                                    }
                                ]
                            },
                            "data": [
                                {
                                    "0": "31851",
                                    "1": "1",
                                    "2": "vice-presidential"
                                },
                                {
                                    "0": "31653",
                                    "1": "32",
                                    "2": "us-presidents"
                                },
                                {
                                    "0": "31416",
                                    "1": "19",
                                    "2": "u-s-presidents"
                                },
                                {
                                    "0": "30784",
                                    "1": "1",
                                    "2": "to-read-presidents"
                                },
                                {
                                    "0": "30031",
                                    "1": "1",
                                    "2": "the-presidents"
                                },
                                {
                                    "0": "24246",
                                    "1": "53",
                                    "2": "presidents"
                                },
                                {
                                    "0": "24245",
                                    "1": "1",
                                    "2": "presidential-series"
                                },
                                {
                                    "0": "24244",
                                    "1": "19",
                                    "2": "presidential-history"
                                },
                                {
                                    "0": "24243",
                                    "1": "1",
                                    "2": "presidential-election"
                                },
                                {
                                    "0": "24242",
                                    "1": "3",
                                    "2": "presidential-challenge"
                                }
                            ]
                        },
                        "text/html": [
                            "<table>",
                            "<tr><th>tag_id</th><th>Number of tag_ids</th><th>tag_name</th></tr>",
                            "<tr><td>31851</td><td>1</td><td>vice-presidential</td></tr>",
                            "<tr><td>31653</td><td>32</td><td>us-presidents</td></tr>",
                            "<tr><td>31416</td><td>19</td><td>u-s-presidents</td></tr>",
                            "<tr><td>30784</td><td>1</td><td>to-read-presidents</td></tr>",
                            "<tr><td>30031</td><td>1</td><td>the-presidents</td></tr>",
                            "<tr><td>24246</td><td>53</td><td>presidents</td></tr>",
                            "<tr><td>24245</td><td>1</td><td>presidential-series</td></tr>",
                            "<tr><td>24244</td><td>19</td><td>presidential-history</td></tr>",
                            "<tr><td>24243</td><td>1</td><td>presidential-election</td></tr>",
                            "<tr><td>24242</td><td>3</td><td>presidential-challenge</td></tr>",
                            "</table>"
                        ]
                    }
                }
            ],
            "execution_count": 34
        },
        {
            "cell_type": "code",
            "source": [
                "-- President's Day\r\n",
                "SELECT TOP 100 b.authors, b.title, b.average_rating, bt.tag_id\r\n",
                "FROM BooksDB.dbo.books AS b \r\n",
                "JOIN BooksDB.dbo.book_tags as bt \r\n",
                "ON b.best_book_id = goodreads_book_id\r\n",
                "WHERE bt.tag_id IN (\r\n",
                "    SELECT TOP 10 bt.tag_id\r\n",
                "    FROM BooksDB.dbo.book_tags AS bt\r\n",
                "    JOIN BooksDB.dbo.tags AS t\r\n",
                "    ON bt.tag_id = t.tag_id\r\n",
                "    GROUP BY t.tag_name, bt.tag_id\r\n",
                "    HAVING t.tag_name LIKE '%President%'\r\n",
                "    ORDER BY bt.tag_id DESC\r\n",
                ")\r\n",
                "GROUP BY bt.tag_id, b.authors, b.title, b.average_rating\r\n",
                "ORDER BY average_rating DESC;"
            ],
            "metadata": {
                "azdata_cell_guid": "5606f7f2-c46b-42d3-ac64-7ae21c3394f8",
                "language": "sql"
            },
            "outputs": [
                {
                    "output_type": "display_data",
                    "data": {
                        "text/html": "(100 rows affected)"
                    },
                    "metadata": {}
                },
                {
                    "output_type": "display_data",
                    "data": {
                        "text/html": "Total execution time: 00:00:00.500"
                    },
                    "metadata": {}
                },
                {
                    "output_type": "execute_result",
                    "metadata": {},
                    "execution_count": 45,
                    "data": {
                        "application/vnd.dataresource+json": {
                            "schema": {
                                "fields": [
                                    {
                                        "name": "authors"
                                    },
                                    {
                                        "name": "title"
                                    },
                                    {
                                        "name": "average_rating"
                                    },
                                    {
                                        "name": "tag_id"
                                    }
                                ]
                            },
                            "data": [
                                {
                                    "0": "Robert A. Caro",
                                    "1": "The Path to Power (The Years of Lyndon Johnson, #1)",
                                    "2": "4.42",
                                    "3": "24244"
                                },
                                {
                                    "0": "Robert A. Caro",
                                    "1": "The Path to Power (The Years of Lyndon Johnson, #1)",
                                    "2": "4.42",
                                    "3": "24246"
                                },
                                {
                                    "0": "Robert A. Caro",
                                    "1": "The Path to Power (The Years of Lyndon Johnson, #1)",
                                    "2": "4.42",
                                    "3": "31416"
                                },
                                {
                                    "0": "Robert A. Caro",
                                    "1": "The Path to Power (The Years of Lyndon Johnson, #1)",
                                    "2": "4.42",
                                    "3": "31653"
                                },
                                {
                                    "0": "Robert A. Caro",
                                    "1": "Master of the Senate (The Years of Lyndon Johnson, #3)",
                                    "2": "4.41",
                                    "3": "24244"
                                },
                                {
                                    "0": "Robert A. Caro",
                                    "1": "Master of the Senate (The Years of Lyndon Johnson, #3)",
                                    "2": "4.41",
                                    "3": "24246"
                                },
                                {
                                    "0": "Robert A. Caro",
                                    "1": "Master of the Senate (The Years of Lyndon Johnson, #3)",
                                    "2": "4.41",
                                    "3": "31416"
                                },
                                {
                                    "0": "Robert A. Caro",
                                    "1": "Master of the Senate (The Years of Lyndon Johnson, #3)",
                                    "2": "4.41",
                                    "3": "31653"
                                },
                                {
                                    "0": "Doris Kearns Goodwin, Suzanne Toren",
                                    "1": "Team of Rivals: The Political Genius of Abraham Lincoln",
                                    "2": "4.3",
                                    "3": "24246"
                                },
                                {
                                    "0": "Doris Kearns Goodwin, Suzanne Toren",
                                    "1": "Team of Rivals: The Political Genius of Abraham Lincoln",
                                    "2": "4.3",
                                    "3": "31653"
                                },
                                {
                                    "0": "Ron Chernow",
                                    "1": "Alexander Hamilton",
                                    "2": "4.26",
                                    "3": "24246"
                                },
                                {
                                    "0": "Edmund Morris",
                                    "1": "The Rise of Theodore Roosevelt",
                                    "2": "4.25",
                                    "3": "24244"
                                },
                                {
                                    "0": "Robert A. Caro",
                                    "1": "Means of Ascent (The Years of Lyndon Johnson, #2)",
                                    "2": "4.25",
                                    "3": "24244"
                                },
                                {
                                    "0": "Robert A. Caro",
                                    "1": "Means of Ascent (The Years of Lyndon Johnson, #2)",
                                    "2": "4.25",
                                    "3": "24245"
                                },
                                {
                                    "0": "Edmund Morris",
                                    "1": "The Rise of Theodore Roosevelt",
                                    "2": "4.25",
                                    "3": "24246"
                                },
                                {
                                    "0": "Robert A. Caro",
                                    "1": "Means of Ascent (The Years of Lyndon Johnson, #2)",
                                    "2": "4.25",
                                    "3": "24246"
                                },
                                {
                                    "0": "Robert A. Caro",
                                    "1": "Means of Ascent (The Years of Lyndon Johnson, #2)",
                                    "2": "4.25",
                                    "3": "31416"
                                },
                                {
                                    "0": "Edmund Morris",
                                    "1": "The Rise of Theodore Roosevelt",
                                    "2": "4.25",
                                    "3": "31653"
                                },
                                {
                                    "0": "Robert A. Caro",
                                    "1": "Means of Ascent (The Years of Lyndon Johnson, #2)",
                                    "2": "4.25",
                                    "3": "31653"
                                },
                                {
                                    "0": "Ronald C. White Jr.",
                                    "1": "A. Lincoln",
                                    "2": "4.22",
                                    "3": "24244"
                                },
                                {
                                    "0": "Ronald C. White Jr.",
                                    "1": "A. Lincoln",
                                    "2": "4.22",
                                    "3": "24246"
                                },
                                {
                                    "0": "Stephanie Dray, Laura Kamoie",
                                    "1": "America's First Daughter",
                                    "2": "4.22",
                                    "3": "24246"
                                },
                                {
                                    "0": "Ronald C. White Jr.",
                                    "1": "A. Lincoln",
                                    "2": "4.22",
                                    "3": "30784"
                                },
                                {
                                    "0": "Ronald C. White Jr.",
                                    "1": "A. Lincoln",
                                    "2": "4.22",
                                    "3": "31416"
                                },
                                {
                                    "0": "Ronald C. White Jr.",
                                    "1": "A. Lincoln",
                                    "2": "4.22",
                                    "3": "31653"
                                },
                                {
                                    "0": "Doris Kearns Goodwin",
                                    "1": "No Ordinary Time: Franklin and Eleanor Roosevelt: The Home Front in World War II",
                                    "2": "4.2",
                                    "3": "24244"
                                },
                                {
                                    "0": "Doris Kearns Goodwin",
                                    "1": "No Ordinary Time: Franklin and Eleanor Roosevelt: The Home Front in World War II",
                                    "2": "4.2",
                                    "3": "24246"
                                },
                                {
                                    "0": "Doris Kearns Goodwin",
                                    "1": "No Ordinary Time: Franklin and Eleanor Roosevelt: The Home Front in World War II",
                                    "2": "4.2",
                                    "3": "31653"
                                },
                                {
                                    "0": "Candice Millard",
                                    "1": "Destiny of the Republic: A Tale of Madness, Medicine and the Murder of a President",
                                    "2": "4.19",
                                    "3": "24244"
                                },
                                {
                                    "0": "Candice Millard",
                                    "1": "Destiny of the Republic: A Tale of Madness, Medicine and the Murder of a President",
                                    "2": "4.19",
                                    "3": "24246"
                                },
                                {
                                    "0": "Candice Millard",
                                    "1": "Destiny of the Republic: A Tale of Madness, Medicine and the Murder of a President",
                                    "2": "4.19",
                                    "3": "31416"
                                },
                                {
                                    "0": "Candice Millard",
                                    "1": "Destiny of the Republic: A Tale of Madness, Medicine and the Murder of a President",
                                    "2": "4.19",
                                    "3": "31653"
                                },
                                {
                                    "0": "Carl Bernstein, Bob Woodward",
                                    "1": "All the President's Men",
                                    "2": "4.17",
                                    "3": "24244"
                                },
                                {
                                    "0": "David Herbert Donald",
                                    "1": "Lincoln",
                                    "2": "4.17",
                                    "3": "24244"
                                },
                                {
                                    "0": "Carl Bernstein, Bob Woodward",
                                    "1": "All the President's Men",
                                    "2": "4.17",
                                    "3": "24246"
                                },
                                {
                                    "0": "David Herbert Donald",
                                    "1": "Lincoln",
                                    "2": "4.17",
                                    "3": "24246"
                                },
                                {
                                    "0": "David Herbert Donald",
                                    "1": "Lincoln",
                                    "2": "4.17",
                                    "3": "31416"
                                },
                                {
                                    "0": "David Herbert Donald",
                                    "1": "Lincoln",
                                    "2": "4.17",
                                    "3": "31653"
                                },
                                {
                                    "0": "Doris Kearns Goodwin",
                                    "1": "The Bully Pulpit: Theodore Roosevelt, William Howard Taft, and the Golden Age of Journalism",
                                    "2": "4.16",
                                    "3": "24244"
                                },
                                {
                                    "0": "Edmund Morris",
                                    "1": "Theodore Rex",
                                    "2": "4.16",
                                    "3": "24244"
                                },
                                {
                                    "0": "Candice Millard",
                                    "1": "The River of Doubt: Theodore Roosevelt's Darkest Journey",
                                    "2": "4.16",
                                    "3": "24246"
                                },
                                {
                                    "0": "Doris Kearns Goodwin",
                                    "1": "The Bully Pulpit: Theodore Roosevelt, William Howard Taft, and the Golden Age of Journalism",
                                    "2": "4.16",
                                    "3": "24246"
                                },
                                {
                                    "0": "Edmund Morris",
                                    "1": "Theodore Rex",
                                    "2": "4.16",
                                    "3": "24246"
                                },
                                {
                                    "0": "Candice Millard",
                                    "1": "The River of Doubt: Theodore Roosevelt's Darkest Journey",
                                    "2": "4.16",
                                    "3": "31416"
                                },
                                {
                                    "0": "Doris Kearns Goodwin",
                                    "1": "The Bully Pulpit: Theodore Roosevelt, William Howard Taft, and the Golden Age of Journalism",
                                    "2": "4.16",
                                    "3": "31416"
                                },
                                {
                                    "0": "Edmund Morris",
                                    "1": "Theodore Rex",
                                    "2": "4.16",
                                    "3": "31416"
                                },
                                {
                                    "0": "Candice Millard",
                                    "1": "The River of Doubt: Theodore Roosevelt's Darkest Journey",
                                    "2": "4.16",
                                    "3": "31653"
                                },
                                {
                                    "0": "Doris Kearns Goodwin",
                                    "1": "The Bully Pulpit: Theodore Roosevelt, William Howard Taft, and the Golden Age of Journalism",
                                    "2": "4.16",
                                    "3": "31653"
                                },
                                {
                                    "0": "Edmund Morris",
                                    "1": "Theodore Rex",
                                    "2": "4.16",
                                    "3": "31653"
                                },
                                {
                                    "0": "David McCullough",
                                    "1": "Truman",
                                    "2": "4.15",
                                    "3": "24244"
                                },
                                {
                                    "0": "David McCullough",
                                    "1": "Truman",
                                    "2": "4.15",
                                    "3": "24246"
                                },
                                {
                                    "0": "Jay Winik",
                                    "1": "April 1865: The Month That Saved America",
                                    "2": "4.15",
                                    "3": "24246"
                                },
                                {
                                    "0": "David McCullough",
                                    "1": "Truman",
                                    "2": "4.15",
                                    "3": "31416"
                                },
                                {
                                    "0": "David McCullough",
                                    "1": "Truman",
                                    "2": "4.15",
                                    "3": "31653"
                                },
                                {
                                    "0": "Clint Hill, Lisa McCubbin",
                                    "1": "Mrs. Kennedy and Me: An Intimate Memoir",
                                    "2": "4.14",
                                    "3": "24246"
                                },
                                {
                                    "0": "James L. Swanson",
                                    "1": "Manhunt: The 12-Day Chase for Lincoln's Killer",
                                    "2": "4.12",
                                    "3": "24246"
                                },
                                {
                                    "0": "James L. Swanson",
                                    "1": "Manhunt: The 12-Day Chase for Lincoln's Killer",
                                    "2": "4.12",
                                    "3": "31653"
                                },
                                {
                                    "0": "David Hackett Fischer",
                                    "1": "Washington's Crossing",
                                    "2": "4.11",
                                    "3": "24246"
                                },
                                {
                                    "0": "David Hackett Fischer",
                                    "1": "Washington's Crossing",
                                    "2": "4.11",
                                    "3": "31653"
                                },
                                {
                                    "0": "John Heilemann, Mark Halperin",
                                    "1": "Game Change: Obama and the Clintons, McCain and Palin, and the Race of a Lifetime",
                                    "2": "4.1",
                                    "3": "24243"
                                },
                                {
                                    "0": "Edmund Morris",
                                    "1": "Colonel Roosevelt",
                                    "2": "4.1",
                                    "3": "24244"
                                },
                                {
                                    "0": "David McCullough",
                                    "1": "Mornings on Horseback",
                                    "2": "4.1",
                                    "3": "24246"
                                },
                                {
                                    "0": "Edmund Morris",
                                    "1": "Colonel Roosevelt",
                                    "2": "4.1",
                                    "3": "24246"
                                },
                                {
                                    "0": "Hunter S. Thompson",
                                    "1": "Fear and Loathing on the Campaign Trail '72",
                                    "2": "4.1",
                                    "3": "24246"
                                },
                                {
                                    "0": "John Heilemann, Mark Halperin",
                                    "1": "Game Change: Obama and the Clintons, McCain and Palin, and the Race of a Lifetime",
                                    "2": "4.1",
                                    "3": "24246"
                                },
                                {
                                    "0": "David McCullough",
                                    "1": "Mornings on Horseback",
                                    "2": "4.1",
                                    "3": "31416"
                                },
                                {
                                    "0": "Edmund Morris",
                                    "1": "Colonel Roosevelt",
                                    "2": "4.1",
                                    "3": "31416"
                                },
                                {
                                    "0": "David McCullough",
                                    "1": "Mornings on Horseback",
                                    "2": "4.1",
                                    "3": "31653"
                                },
                                {
                                    "0": "Edmund Morris",
                                    "1": "Colonel Roosevelt",
                                    "2": "4.1",
                                    "3": "31653"
                                },
                                {
                                    "0": "John Heilemann, Mark Halperin",
                                    "1": "Game Change: Obama and the Clintons, McCain and Palin, and the Race of a Lifetime",
                                    "2": "4.1",
                                    "3": "31653"
                                },
                                {
                                    "0": "Ron Chernow",
                                    "1": "Washington: A Life",
                                    "2": "4.09",
                                    "3": "24242"
                                },
                                {
                                    "0": "Ron Chernow",
                                    "1": "Washington: A Life",
                                    "2": "4.09",
                                    "3": "24244"
                                },
                                {
                                    "0": "Ron Chernow",
                                    "1": "Washington: A Life",
                                    "2": "4.09",
                                    "3": "24246"
                                },
                                {
                                    "0": "Ron Chernow",
                                    "1": "Washington: A Life",
                                    "2": "4.09",
                                    "3": "31416"
                                },
                                {
                                    "0": "Ron Chernow",
                                    "1": "Washington: A Life",
                                    "2": "4.09",
                                    "3": "31653"
                                },
                                {
                                    "0": "Bill O'Reilly, Martin Dugard",
                                    "1": "Killing Reagan: The Violent Assault That Changed a Presidency",
                                    "2": "4.08",
                                    "3": "24246"
                                },
                                {
                                    "0": "Bill O'Reilly, Martin Dugard",
                                    "1": "Killing Reagan: The Violent Assault That Changed a Presidency",
                                    "2": "4.08",
                                    "3": "31653"
                                },
                                {
                                    "0": "David McCullough",
                                    "1": "1776",
                                    "2": "4.06",
                                    "3": "24246"
                                },
                                {
                                    "0": "Bill O'Reilly, Martin Dugard",
                                    "1": "Killing Kennedy: The End of Camelot",
                                    "2": "4.05",
                                    "3": "24246"
                                },
                                {
                                    "0": "David McCullough",
                                    "1": "John Adams",
                                    "2": "4.05",
                                    "3": "24246"
                                },
                                {
                                    "0": "David McCullough",
                                    "1": "John Adams",
                                    "2": "4.05",
                                    "3": "31416"
                                },
                                {
                                    "0": "Bill O'Reilly, Martin Dugard",
                                    "1": "Killing Kennedy: The End of Camelot",
                                    "2": "4.05",
                                    "3": "31653"
                                },
                                {
                                    "0": "David McCullough",
                                    "1": "John Adams",
                                    "2": "4.05",
                                    "3": "31653"
                                },
                                {
                                    "0": "Tom Clancy",
                                    "1": "Executive Orders (Jack Ryan Universe, #9)",
                                    "2": "4.04",
                                    "3": "24246"
                                },
                                {
                                    "0": "Bill O'Reilly, Martin Dugard",
                                    "1": "Killing Lincoln: The Shocking Assassination that Changed America Forever",
                                    "2": "4.02",
                                    "3": "24246"
                                },
                                {
                                    "0": "Bill O'Reilly, Martin Dugard",
                                    "1": "Killing Lincoln: The Shocking Assassination that Changed America Forever",
                                    "2": "4.02",
                                    "3": "31653"
                                },
                                {
                                    "0": "Jon Meacham",
                                    "1": "Thomas Jefferson: The Art of Power",
                                    "2": "3.99",
                                    "3": "24244"
                                },
                                {
                                    "0": "Edward M. Kennedy",
                                    "1": "True Compass: A Memoir",
                                    "2": "3.99",
                                    "3": "24246"
                                },
                                {
                                    "0": "Jon Meacham",
                                    "1": "Thomas Jefferson: The Art of Power",
                                    "2": "3.99",
                                    "3": "24246"
                                },
                                {
                                    "0": "Jon Meacham",
                                    "1": "Thomas Jefferson: The Art of Power",
                                    "2": "3.99",
                                    "3": "31416"
                                },
                                {
                                    "0": "Jon Meacham",
                                    "1": "Thomas Jefferson: The Art of Power",
                                    "2": "3.99",
                                    "3": "31653"
                                },
                                {
                                    "0": "Sarah Vowell",
                                    "1": "Assassination Vacation",
                                    "2": "3.98",
                                    "3": "24246"
                                },
                                {
                                    "0": "George Saunders",
                                    "1": "Lincoln in the Bardo",
                                    "2": "3.93",
                                    "3": "24246"
                                },
                                {
                                    "0": "Joseph J. Ellis",
                                    "1": "Founding Brothers: The Revolutionary Generation",
                                    "2": "3.92",
                                    "3": "24246"
                                },
                                {
                                    "0": "Joseph J. Ellis",
                                    "1": "Founding Brothers: The Revolutionary Generation",
                                    "2": "3.92",
                                    "3": "31653"
                                },
                                {
                                    "0": "Joseph J. Ellis",
                                    "1": "His Excellency: George Washington",
                                    "2": "3.9",
                                    "3": "24242"
                                },
                                {
                                    "0": "Joseph J. Ellis",
                                    "1": "American Sphinx: The Character of Thomas Jefferson",
                                    "2": "3.9",
                                    "3": "24244"
                                },
                                {
                                    "0": "Joseph J. Ellis",
                                    "1": "His Excellency: George Washington",
                                    "2": "3.9",
                                    "3": "24244"
                                },
                                {
                                    "0": "Joseph J. Ellis",
                                    "1": "American Sphinx: The Character of Thomas Jefferson",
                                    "2": "3.9",
                                    "3": "24246"
                                },
                                {
                                    "0": "Joseph J. Ellis",
                                    "1": "His Excellency: George Washington",
                                    "2": "3.9",
                                    "3": "24246"
                                }
                            ]
                        },
                        "text/html": [
                            "<table>",
                            "<tr><th>authors</th><th>title</th><th>average_rating</th><th>tag_id</th></tr>",
                            "<tr><td>Robert A. Caro</td><td>The Path to Power (The Years of Lyndon Johnson, #1)</td><td>4.42</td><td>24244</td></tr>",
                            "<tr><td>Robert A. Caro</td><td>The Path to Power (The Years of Lyndon Johnson, #1)</td><td>4.42</td><td>24246</td></tr>",
                            "<tr><td>Robert A. Caro</td><td>The Path to Power (The Years of Lyndon Johnson, #1)</td><td>4.42</td><td>31416</td></tr>",
                            "<tr><td>Robert A. Caro</td><td>The Path to Power (The Years of Lyndon Johnson, #1)</td><td>4.42</td><td>31653</td></tr>",
                            "<tr><td>Robert A. Caro</td><td>Master of the Senate (The Years of Lyndon Johnson, #3)</td><td>4.41</td><td>24244</td></tr>",
                            "<tr><td>Robert A. Caro</td><td>Master of the Senate (The Years of Lyndon Johnson, #3)</td><td>4.41</td><td>24246</td></tr>",
                            "<tr><td>Robert A. Caro</td><td>Master of the Senate (The Years of Lyndon Johnson, #3)</td><td>4.41</td><td>31416</td></tr>",
                            "<tr><td>Robert A. Caro</td><td>Master of the Senate (The Years of Lyndon Johnson, #3)</td><td>4.41</td><td>31653</td></tr>",
                            "<tr><td>Doris Kearns Goodwin, Suzanne Toren</td><td>Team of Rivals: The Political Genius of Abraham Lincoln</td><td>4.3</td><td>24246</td></tr>",
                            "<tr><td>Doris Kearns Goodwin, Suzanne Toren</td><td>Team of Rivals: The Political Genius of Abraham Lincoln</td><td>4.3</td><td>31653</td></tr>",
                            "<tr><td>Ron Chernow</td><td>Alexander Hamilton</td><td>4.26</td><td>24246</td></tr>",
                            "<tr><td>Edmund Morris</td><td>The Rise of Theodore Roosevelt</td><td>4.25</td><td>24244</td></tr>",
                            "<tr><td>Robert A. Caro</td><td>Means of Ascent (The Years of Lyndon Johnson, #2)</td><td>4.25</td><td>24244</td></tr>",
                            "<tr><td>Robert A. Caro</td><td>Means of Ascent (The Years of Lyndon Johnson, #2)</td><td>4.25</td><td>24245</td></tr>",
                            "<tr><td>Edmund Morris</td><td>The Rise of Theodore Roosevelt</td><td>4.25</td><td>24246</td></tr>",
                            "<tr><td>Robert A. Caro</td><td>Means of Ascent (The Years of Lyndon Johnson, #2)</td><td>4.25</td><td>24246</td></tr>",
                            "<tr><td>Robert A. Caro</td><td>Means of Ascent (The Years of Lyndon Johnson, #2)</td><td>4.25</td><td>31416</td></tr>",
                            "<tr><td>Edmund Morris</td><td>The Rise of Theodore Roosevelt</td><td>4.25</td><td>31653</td></tr>",
                            "<tr><td>Robert A. Caro</td><td>Means of Ascent (The Years of Lyndon Johnson, #2)</td><td>4.25</td><td>31653</td></tr>",
                            "<tr><td>Ronald C. White Jr.</td><td>A. Lincoln</td><td>4.22</td><td>24244</td></tr>",
                            "<tr><td>Ronald C. White Jr.</td><td>A. Lincoln</td><td>4.22</td><td>24246</td></tr>",
                            "<tr><td>Stephanie Dray, Laura Kamoie</td><td>America's First Daughter</td><td>4.22</td><td>24246</td></tr>",
                            "<tr><td>Ronald C. White Jr.</td><td>A. Lincoln</td><td>4.22</td><td>30784</td></tr>",
                            "<tr><td>Ronald C. White Jr.</td><td>A. Lincoln</td><td>4.22</td><td>31416</td></tr>",
                            "<tr><td>Ronald C. White Jr.</td><td>A. Lincoln</td><td>4.22</td><td>31653</td></tr>",
                            "<tr><td>Doris Kearns Goodwin</td><td>No Ordinary Time: Franklin and Eleanor Roosevelt: The Home Front in World War II</td><td>4.2</td><td>24244</td></tr>",
                            "<tr><td>Doris Kearns Goodwin</td><td>No Ordinary Time: Franklin and Eleanor Roosevelt: The Home Front in World War II</td><td>4.2</td><td>24246</td></tr>",
                            "<tr><td>Doris Kearns Goodwin</td><td>No Ordinary Time: Franklin and Eleanor Roosevelt: The Home Front in World War II</td><td>4.2</td><td>31653</td></tr>",
                            "<tr><td>Candice Millard</td><td>Destiny of the Republic: A Tale of Madness, Medicine and the Murder of a President</td><td>4.19</td><td>24244</td></tr>",
                            "<tr><td>Candice Millard</td><td>Destiny of the Republic: A Tale of Madness, Medicine and the Murder of a President</td><td>4.19</td><td>24246</td></tr>",
                            "<tr><td>Candice Millard</td><td>Destiny of the Republic: A Tale of Madness, Medicine and the Murder of a President</td><td>4.19</td><td>31416</td></tr>",
                            "<tr><td>Candice Millard</td><td>Destiny of the Republic: A Tale of Madness, Medicine and the Murder of a President</td><td>4.19</td><td>31653</td></tr>",
                            "<tr><td>Carl Bernstein, Bob Woodward</td><td>All the President's Men</td><td>4.17</td><td>24244</td></tr>",
                            "<tr><td>David Herbert Donald</td><td>Lincoln</td><td>4.17</td><td>24244</td></tr>",
                            "<tr><td>Carl Bernstein, Bob Woodward</td><td>All the President's Men</td><td>4.17</td><td>24246</td></tr>",
                            "<tr><td>David Herbert Donald</td><td>Lincoln</td><td>4.17</td><td>24246</td></tr>",
                            "<tr><td>David Herbert Donald</td><td>Lincoln</td><td>4.17</td><td>31416</td></tr>",
                            "<tr><td>David Herbert Donald</td><td>Lincoln</td><td>4.17</td><td>31653</td></tr>",
                            "<tr><td>Doris Kearns Goodwin</td><td>The Bully Pulpit: Theodore Roosevelt, William Howard Taft, and the Golden Age of Journalism</td><td>4.16</td><td>24244</td></tr>",
                            "<tr><td>Edmund Morris</td><td>Theodore Rex</td><td>4.16</td><td>24244</td></tr>",
                            "<tr><td>Candice Millard</td><td>The River of Doubt: Theodore Roosevelt's Darkest Journey</td><td>4.16</td><td>24246</td></tr>",
                            "<tr><td>Doris Kearns Goodwin</td><td>The Bully Pulpit: Theodore Roosevelt, William Howard Taft, and the Golden Age of Journalism</td><td>4.16</td><td>24246</td></tr>",
                            "<tr><td>Edmund Morris</td><td>Theodore Rex</td><td>4.16</td><td>24246</td></tr>",
                            "<tr><td>Candice Millard</td><td>The River of Doubt: Theodore Roosevelt's Darkest Journey</td><td>4.16</td><td>31416</td></tr>",
                            "<tr><td>Doris Kearns Goodwin</td><td>The Bully Pulpit: Theodore Roosevelt, William Howard Taft, and the Golden Age of Journalism</td><td>4.16</td><td>31416</td></tr>",
                            "<tr><td>Edmund Morris</td><td>Theodore Rex</td><td>4.16</td><td>31416</td></tr>",
                            "<tr><td>Candice Millard</td><td>The River of Doubt: Theodore Roosevelt's Darkest Journey</td><td>4.16</td><td>31653</td></tr>",
                            "<tr><td>Doris Kearns Goodwin</td><td>The Bully Pulpit: Theodore Roosevelt, William Howard Taft, and the Golden Age of Journalism</td><td>4.16</td><td>31653</td></tr>",
                            "<tr><td>Edmund Morris</td><td>Theodore Rex</td><td>4.16</td><td>31653</td></tr>",
                            "<tr><td>David McCullough</td><td>Truman</td><td>4.15</td><td>24244</td></tr>",
                            "<tr><td>David McCullough</td><td>Truman</td><td>4.15</td><td>24246</td></tr>",
                            "<tr><td>Jay Winik</td><td>April 1865: The Month That Saved America</td><td>4.15</td><td>24246</td></tr>",
                            "<tr><td>David McCullough</td><td>Truman</td><td>4.15</td><td>31416</td></tr>",
                            "<tr><td>David McCullough</td><td>Truman</td><td>4.15</td><td>31653</td></tr>",
                            "<tr><td>Clint Hill, Lisa McCubbin</td><td>Mrs. Kennedy and Me: An Intimate Memoir</td><td>4.14</td><td>24246</td></tr>",
                            "<tr><td>James L. Swanson</td><td>Manhunt: The 12-Day Chase for Lincoln's Killer</td><td>4.12</td><td>24246</td></tr>",
                            "<tr><td>James L. Swanson</td><td>Manhunt: The 12-Day Chase for Lincoln's Killer</td><td>4.12</td><td>31653</td></tr>",
                            "<tr><td>David Hackett Fischer</td><td>Washington's Crossing</td><td>4.11</td><td>24246</td></tr>",
                            "<tr><td>David Hackett Fischer</td><td>Washington's Crossing</td><td>4.11</td><td>31653</td></tr>",
                            "<tr><td>John Heilemann, Mark Halperin</td><td>Game Change: Obama and the Clintons, McCain and Palin, and the Race of a Lifetime</td><td>4.1</td><td>24243</td></tr>",
                            "<tr><td>Edmund Morris</td><td>Colonel Roosevelt</td><td>4.1</td><td>24244</td></tr>",
                            "<tr><td>David McCullough</td><td>Mornings on Horseback</td><td>4.1</td><td>24246</td></tr>",
                            "<tr><td>Edmund Morris</td><td>Colonel Roosevelt</td><td>4.1</td><td>24246</td></tr>",
                            "<tr><td>Hunter S. Thompson</td><td>Fear and Loathing on the Campaign Trail '72</td><td>4.1</td><td>24246</td></tr>",
                            "<tr><td>John Heilemann, Mark Halperin</td><td>Game Change: Obama and the Clintons, McCain and Palin, and the Race of a Lifetime</td><td>4.1</td><td>24246</td></tr>",
                            "<tr><td>David McCullough</td><td>Mornings on Horseback</td><td>4.1</td><td>31416</td></tr>",
                            "<tr><td>Edmund Morris</td><td>Colonel Roosevelt</td><td>4.1</td><td>31416</td></tr>",
                            "<tr><td>David McCullough</td><td>Mornings on Horseback</td><td>4.1</td><td>31653</td></tr>",
                            "<tr><td>Edmund Morris</td><td>Colonel Roosevelt</td><td>4.1</td><td>31653</td></tr>",
                            "<tr><td>John Heilemann, Mark Halperin</td><td>Game Change: Obama and the Clintons, McCain and Palin, and the Race of a Lifetime</td><td>4.1</td><td>31653</td></tr>",
                            "<tr><td>Ron Chernow</td><td>Washington: A Life</td><td>4.09</td><td>24242</td></tr>",
                            "<tr><td>Ron Chernow</td><td>Washington: A Life</td><td>4.09</td><td>24244</td></tr>",
                            "<tr><td>Ron Chernow</td><td>Washington: A Life</td><td>4.09</td><td>24246</td></tr>",
                            "<tr><td>Ron Chernow</td><td>Washington: A Life</td><td>4.09</td><td>31416</td></tr>",
                            "<tr><td>Ron Chernow</td><td>Washington: A Life</td><td>4.09</td><td>31653</td></tr>",
                            "<tr><td>Bill O'Reilly, Martin Dugard</td><td>Killing Reagan: The Violent Assault That Changed a Presidency</td><td>4.08</td><td>24246</td></tr>",
                            "<tr><td>Bill O'Reilly, Martin Dugard</td><td>Killing Reagan: The Violent Assault That Changed a Presidency</td><td>4.08</td><td>31653</td></tr>",
                            "<tr><td>David McCullough</td><td>1776</td><td>4.06</td><td>24246</td></tr>",
                            "<tr><td>Bill O'Reilly, Martin Dugard</td><td>Killing Kennedy: The End of Camelot</td><td>4.05</td><td>24246</td></tr>",
                            "<tr><td>David McCullough</td><td>John Adams</td><td>4.05</td><td>24246</td></tr>",
                            "<tr><td>David McCullough</td><td>John Adams</td><td>4.05</td><td>31416</td></tr>",
                            "<tr><td>Bill O'Reilly, Martin Dugard</td><td>Killing Kennedy: The End of Camelot</td><td>4.05</td><td>31653</td></tr>",
                            "<tr><td>David McCullough</td><td>John Adams</td><td>4.05</td><td>31653</td></tr>",
                            "<tr><td>Tom Clancy</td><td>Executive Orders (Jack Ryan Universe, #9)</td><td>4.04</td><td>24246</td></tr>",
                            "<tr><td>Bill O'Reilly, Martin Dugard</td><td>Killing Lincoln: The Shocking Assassination that Changed America Forever</td><td>4.02</td><td>24246</td></tr>",
                            "<tr><td>Bill O'Reilly, Martin Dugard</td><td>Killing Lincoln: The Shocking Assassination that Changed America Forever</td><td>4.02</td><td>31653</td></tr>",
                            "<tr><td>Jon Meacham</td><td>Thomas Jefferson: The Art of Power</td><td>3.99</td><td>24244</td></tr>",
                            "<tr><td>Edward M. Kennedy</td><td>True Compass: A Memoir</td><td>3.99</td><td>24246</td></tr>",
                            "<tr><td>Jon Meacham</td><td>Thomas Jefferson: The Art of Power</td><td>3.99</td><td>24246</td></tr>",
                            "<tr><td>Jon Meacham</td><td>Thomas Jefferson: The Art of Power</td><td>3.99</td><td>31416</td></tr>",
                            "<tr><td>Jon Meacham</td><td>Thomas Jefferson: The Art of Power</td><td>3.99</td><td>31653</td></tr>",
                            "<tr><td>Sarah Vowell</td><td>Assassination Vacation</td><td>3.98</td><td>24246</td></tr>",
                            "<tr><td>George Saunders</td><td>Lincoln in the Bardo</td><td>3.93</td><td>24246</td></tr>",
                            "<tr><td>Joseph J. Ellis</td><td>Founding Brothers: The Revolutionary Generation</td><td>3.92</td><td>24246</td></tr>",
                            "<tr><td>Joseph J. Ellis</td><td>Founding Brothers: The Revolutionary Generation</td><td>3.92</td><td>31653</td></tr>",
                            "<tr><td>Joseph J. Ellis</td><td>His Excellency: George Washington</td><td>3.9</td><td>24242</td></tr>",
                            "<tr><td>Joseph J. Ellis</td><td>American Sphinx: The Character of Thomas Jefferson</td><td>3.9</td><td>24244</td></tr>",
                            "<tr><td>Joseph J. Ellis</td><td>His Excellency: George Washington</td><td>3.9</td><td>24244</td></tr>",
                            "<tr><td>Joseph J. Ellis</td><td>American Sphinx: The Character of Thomas Jefferson</td><td>3.9</td><td>24246</td></tr>",
                            "<tr><td>Joseph J. Ellis</td><td>His Excellency: George Washington</td><td>3.9</td><td>24246</td></tr>",
                            "</table>"
                        ]
                    }
                }
            ],
            "execution_count": 45
        },
        {
            "cell_type": "markdown",
            "source": [
                "### **Summary of event 1:**\n",
                "\n",
                "It's February! And there are lots of books about president's. There should be a reading of Ronald C. White Jr.'s book A. Lincoln about Abraham Lincoln."
            ],
            "metadata": {
                "azdata_cell_guid": "3bc72d4c-077b-42d3-9528-9aff8e7b6cf3"
            },
            "attachments": {}
        },
        {
            "cell_type": "code",
            "source": [
                "-- Event 2 Query\r\n",
                "-- Valentine's Day\r\n",
                "SELECT TOP 10 bt.tag_id, bt.tag_id, COUNT(bt.tag_id) AS 'Number of tag_ids', t.tag_name\r\n",
                "FROM BooksDB.dbo.book_tags AS bt\r\n",
                "JOIN BooksDB.dbo.tags AS t\r\n",
                "ON bt.tag_id = t.tag_id\r\n",
                "GROUP BY t.tag_name, bt.tag_id\r\n",
                "HAVING t.tag_name LIKE '%Valentine%' or t.tag_name LIKE '%romance%'\r\n",
                "ORDER BY [Number of tag_ids] DESC;"
            ],
            "metadata": {
                "azdata_cell_guid": "dca0a98f-065f-4b0e-9d93-fcb01cad668c",
                "language": "sql"
            },
            "outputs": [
                {
                    "output_type": "display_data",
                    "data": {
                        "text/html": "(10 rows affected)"
                    },
                    "metadata": {}
                },
                {
                    "output_type": "display_data",
                    "data": {
                        "text/html": "Total execution time: 00:00:00.310"
                    },
                    "metadata": {}
                },
                {
                    "output_type": "execute_result",
                    "metadata": {},
                    "execution_count": 46,
                    "data": {
                        "application/vnd.dataresource+json": {
                            "schema": {
                                "fields": [
                                    {
                                        "name": "tag_id"
                                    },
                                    {
                                        "name": "tag_id"
                                    },
                                    {
                                        "name": "Number of tag_ids"
                                    },
                                    {
                                        "name": "tag_name"
                                    }
                                ]
                            },
                            "data": [
                                {
                                    "0": "26138",
                                    "1": "26138",
                                    "2": "4251",
                                    "3": "romance"
                                },
                                {
                                    "0": "8076",
                                    "1": "8076",
                                    "2": "1105",
                                    "3": "contemporary-romance"
                                },
                                {
                                    "0": "22983",
                                    "1": "22983",
                                    "2": "840",
                                    "3": "paranormal-romance"
                                },
                                {
                                    "0": "1679",
                                    "1": "1679",
                                    "2": "519",
                                    "3": "adult-romance"
                                },
                                {
                                    "0": "33045",
                                    "1": "33045",
                                    "2": "479",
                                    "3": "ya-romance"
                                },
                                {
                                    "0": "26146",
                                    "1": "26146",
                                    "2": "344",
                                    "3": "romance-contemporary"
                                },
                                {
                                    "0": "10824",
                                    "1": "10824",
                                    "2": "335",
                                    "3": "erotic-romance"
                                },
                                {
                                    "0": "14527",
                                    "1": "14527",
                                    "2": "323",
                                    "3": "historical-romance"
                                },
                                {
                                    "0": "11369",
                                    "1": "11369",
                                    "2": "275",
                                    "3": "fantasy-romance"
                                },
                                {
                                    "0": "26163",
                                    "1": "26163",
                                    "2": "219",
                                    "3": "romance-paranormal"
                                }
                            ]
                        },
                        "text/html": [
                            "<table>",
                            "<tr><th>tag_id</th><th>tag_id</th><th>Number of tag_ids</th><th>tag_name</th></tr>",
                            "<tr><td>26138</td><td>26138</td><td>4251</td><td>romance</td></tr>",
                            "<tr><td>8076</td><td>8076</td><td>1105</td><td>contemporary-romance</td></tr>",
                            "<tr><td>22983</td><td>22983</td><td>840</td><td>paranormal-romance</td></tr>",
                            "<tr><td>1679</td><td>1679</td><td>519</td><td>adult-romance</td></tr>",
                            "<tr><td>33045</td><td>33045</td><td>479</td><td>ya-romance</td></tr>",
                            "<tr><td>26146</td><td>26146</td><td>344</td><td>romance-contemporary</td></tr>",
                            "<tr><td>10824</td><td>10824</td><td>335</td><td>erotic-romance</td></tr>",
                            "<tr><td>14527</td><td>14527</td><td>323</td><td>historical-romance</td></tr>",
                            "<tr><td>11369</td><td>11369</td><td>275</td><td>fantasy-romance</td></tr>",
                            "<tr><td>26163</td><td>26163</td><td>219</td><td>romance-paranormal</td></tr>",
                            "</table>"
                        ]
                    }
                }
            ],
            "execution_count": 46
        },
        {
            "cell_type": "code",
            "source": [
                "-- Valentine's Day\r\n",
                "SELECT TOP 10 b.authors, b.title, b.average_rating, bt.tag_id\r\n",
                "FROM BooksDB.dbo.books AS b \r\n",
                "JOIN BooksDB.dbo.book_tags as bt \r\n",
                "ON b.best_book_id = goodreads_book_id\r\n",
                "WHERE tag_id = 33045\r\n",
                "ORDER BY average_rating DESC;"
            ],
            "metadata": {
                "azdata_cell_guid": "3aaae3a8-eff7-4b37-8970-2d913a67239b",
                "language": "sql"
            },
            "outputs": [
                {
                    "output_type": "display_data",
                    "data": {
                        "text/html": "(10 rows affected)"
                    },
                    "metadata": {}
                },
                {
                    "output_type": "display_data",
                    "data": {
                        "text/html": "Total execution time: 00:00:00.141"
                    },
                    "metadata": {}
                },
                {
                    "output_type": "execute_result",
                    "metadata": {},
                    "execution_count": 48,
                    "data": {
                        "application/vnd.dataresource+json": {
                            "schema": {
                                "fields": [
                                    {
                                        "name": "authors"
                                    },
                                    {
                                        "name": "title"
                                    },
                                    {
                                        "name": "average_rating"
                                    },
                                    {
                                        "name": "tag_id"
                                    }
                                ]
                            },
                            "data": [
                                {
                                    "0": "Cassandra Clare",
                                    "1": "The Mortal Instruments (The Mortal Instruments #1-4)",
                                    "2": "4.59",
                                    "3": "33045"
                                },
                                {
                                    "0": "Jennifer L. Armentrout",
                                    "1": "Sentinel (Covenant, #5)",
                                    "2": "4.49",
                                    "3": "33045"
                                },
                                {
                                    "0": "Quinn Loftis",
                                    "1": "Just One Drop (The Grey Wolves, #3)",
                                    "2": "4.48",
                                    "3": "33045"
                                },
                                {
                                    "0": "Kelley Armstrong",
                                    "1": "Darkest Powers Trilogy (Darkest Powers, #1-3)",
                                    "2": "4.47",
                                    "3": "33045"
                                },
                                {
                                    "0": "Tijan",
                                    "1": "Fallen Crest Public (Fallen Crest High, #3)",
                                    "2": "4.47",
                                    "3": "33045"
                                },
                                {
                                    "0": "Jenny Han",
                                    "1": "The Summer I Turned Pretty Trilogy: The Summer I Turned Pretty; It's Not Summer Without You; We'll Always Have Summer",
                                    "2": "4.46",
                                    "3": "33045"
                                },
                                {
                                    "0": "Jennifer L. Armentrout",
                                    "1": "Origin (Lux, #4)",
                                    "2": "4.44",
                                    "3": "33045"
                                },
                                {
                                    "0": "Jennifer L. Armentrout",
                                    "1": "Opposition (Lux, #5)",
                                    "2": "4.43",
                                    "3": "33045"
                                },
                                {
                                    "0": "Amy A. Bartol",
                                    "1": "Incendiary (The Premonition, #4)",
                                    "2": "4.43",
                                    "3": "33045"
                                },
                                {
                                    "0": "Jennifer L. Armentrout",
                                    "1": "Deity (Covenant, #3)",
                                    "2": "4.41",
                                    "3": "33045"
                                }
                            ]
                        },
                        "text/html": [
                            "<table>",
                            "<tr><th>authors</th><th>title</th><th>average_rating</th><th>tag_id</th></tr>",
                            "<tr><td>Cassandra Clare</td><td>The Mortal Instruments (The Mortal Instruments #1-4)</td><td>4.59</td><td>33045</td></tr>",
                            "<tr><td>Jennifer L. Armentrout</td><td>Sentinel (Covenant, #5)</td><td>4.49</td><td>33045</td></tr>",
                            "<tr><td>Quinn Loftis</td><td>Just One Drop (The Grey Wolves, #3)</td><td>4.48</td><td>33045</td></tr>",
                            "<tr><td>Kelley Armstrong</td><td>Darkest Powers Trilogy (Darkest Powers, #1-3)</td><td>4.47</td><td>33045</td></tr>",
                            "<tr><td>Tijan</td><td>Fallen Crest Public (Fallen Crest High, #3)</td><td>4.47</td><td>33045</td></tr>",
                            "<tr><td>Jenny Han</td><td>The Summer I Turned Pretty Trilogy: The Summer I Turned Pretty; It's Not Summer Without You; We'll Always Have Summer</td><td>4.46</td><td>33045</td></tr>",
                            "<tr><td>Jennifer L. Armentrout</td><td>Origin (Lux, #4)</td><td>4.44</td><td>33045</td></tr>",
                            "<tr><td>Jennifer L. Armentrout</td><td>Opposition (Lux, #5)</td><td>4.43</td><td>33045</td></tr>",
                            "<tr><td>Amy A. Bartol</td><td>Incendiary (The Premonition, #4)</td><td>4.43</td><td>33045</td></tr>",
                            "<tr><td>Jennifer L. Armentrout</td><td>Deity (Covenant, #3)</td><td>4.41</td><td>33045</td></tr>",
                            "</table>"
                        ]
                    }
                }
            ],
            "execution_count": 48
        },
        {
            "cell_type": "markdown",
            "source": [
                "### **Summary of event 2:**\n",
                "\n",
                "I think we should decorate the shop as Valentine's day in hearts and love. There should be a reading of Mortal Instruments and a sale on the books since it is the highest rated book with the most tags."
            ],
            "metadata": {
                "azdata_cell_guid": "99d518dc-cd8b-42d6-9a9d-708771c9aa99"
            },
            "attachments": {}
        }
    ]
}